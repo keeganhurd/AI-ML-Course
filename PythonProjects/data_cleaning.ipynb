{
 "cells": [
  {
   "cell_type": "code",
   "execution_count": 3,
   "id": "ee342eee-88f8-4258-9129-4039ad9dab95",
   "metadata": {},
   "outputs": [
    {
     "name": "stdout",
     "output_type": "stream",
     "text": [
      "Libraries loaded successfully!\n"
     ]
    }
   ],
   "source": [
    "import pandas as pd\n",
    "import numpy as np\n",
    "from scipy import stats\n",
    "from sklearn.preprocessing import StandardScaler, MinMaxScaler\n",
    "\n",
    "print(\"Libraries loaded successfully!\")\n"
   ]
  },
  {
   "cell_type": "code",
   "execution_count": 4,
   "id": "cb9bc7b0-1794-4f20-989d-b76068b662a4",
   "metadata": {},
   "outputs": [
    {
     "name": "stdout",
     "output_type": "stream",
     "text": [
      "First 5 rows of the dummy dataset:\n",
      "     Feature1  Feature2 Category  Target\n",
      "0  117.640523        32        A       1\n",
      "1  104.001572        70        B       1\n",
      "2  109.787380        85        C       0\n",
      "3  122.408932        31        D       1\n",
      "4  118.675580        13        A       0\n"
     ]
    }
   ],
   "source": [
    "# Create a dummy dataset with missing values and outliers\n",
    "np.random.seed(0)  # For reproducibility\n",
    "dummy_data = {\n",
    "    'Feature1': np.random.normal(100, 10, 100).tolist() + [np.nan, 200],  # Normally distributed with an outlier\n",
    "    'Feature2': np.random.randint(0, 100, 102).tolist(),  # Random integers\n",
    "    'Category': ['A', 'B', 'C', 'D'] * 25 + [np.nan, 'A'],  # Categorical with some missing values\n",
    "    'Target': np.random.choice([0, 1], 102).tolist()  # Binary target variable\n",
    "}\n",
    "\n",
    "# Convert to a pandas DataFrame\n",
    "df_dummy = pd.DataFrame(dummy_data)\n",
    "\n",
    "# Display the first 5 rows\n",
    "print(\"First 5 rows of the dummy dataset:\")\n",
    "print(df_dummy.head())\n"
   ]
  },
  {
   "cell_type": "code",
   "execution_count": 6,
   "id": "80f1938f-e4f2-425c-aa8d-4dfaef547bab",
   "metadata": {},
   "outputs": [],
   "source": [
    "# Function to load data (already in memory)\n",
    "def load_data(df):\n",
    "    return df\n",
    "\n",
    "# Function to handle missing values (fills numeric with mean)\n",
    "def handle_missing_values(df):\n",
    "    df_numeric = df.select_dtypes(include=[np.number]).fillna(df.mean())  # Fill numeric columns with mean\n",
    "    df_categorical = df.select_dtypes(exclude=[np.number]).fillna(df.mode().iloc[0])  # Fill categorical with mode\n",
    "    return pd.concat([df_numeric, df_categorical], axis=1)\n",
    "\n",
    "# Function to remove outliers using Z-score\n",
    "def remove_outliers(df):\n",
    "    z_scores = np.abs(stats.zscore(df.select_dtypes(include=[np.number])))\n",
    "    return df[(z_scores < 3).all(axis=1)]  # Keep rows where all Z-scores < 3\n",
    "\n",
    "# Function to scale numerical data (Min-Max Scaling)\n",
    "def scale_data(df):\n",
    "    scaler = MinMaxScaler()\n",
    "    df_scaled = pd.DataFrame(scaler.fit_transform(df.select_dtypes(include=[np.number])), columns=df.select_dtypes(include=[np.number]).columns)\n",
    "    return df_scaled\n",
    "\n",
    "# Function to encode categorical variables\n",
    "def encode_categorical(df):\n",
    "    return pd.get_dummies(df, columns=['Category'])  # One-hot encoding\n",
    "\n",
    "# Function to save the preprocessed data\n",
    "def save_data(df, filename):\n",
    "    df.to_csv(filename, index=False)\n",
    "    print(f\"Data saved as {filename}\")\n"
   ]
  },
  {
   "cell_type": "code",
   "execution_count": 8,
   "id": "1188357d-22e5-4178-ad1f-0b4768365df4",
   "metadata": {},
   "outputs": [],
   "source": [
    "# Function to handle missing values properly\n",
    "def handle_missing_values(df):\n",
    "    # Select only numeric columns and fill missing values with their mean\n",
    "    df_numeric = df.select_dtypes(include=[np.number]).apply(lambda x: x.fillna(x.mean()))\n",
    "    \n",
    "    # Select categorical columns and fill missing values with the most frequent value (mode)\n",
    "    df_categorical = df.select_dtypes(exclude=[np.number]).apply(lambda x: x.fillna(x.mode()[0]))\n",
    "    \n",
    "    # Merge the cleaned numeric and categorical data back together\n",
    "    df_cleaned = pd.concat([df_numeric, df_categorical], axis=1)\n",
    "    \n",
    "    return df_cleaned\n"
   ]
  },
  {
   "cell_type": "code",
   "execution_count": null,
   "id": "37d76d45-7d92-4300-877a-0104595b3213",
   "metadata": {},
   "outputs": [],
   "source": []
  }
 ],
 "metadata": {
  "kernelspec": {
   "display_name": "Python 3 (ipykernel)",
   "language": "python",
   "name": "python3"
  },
  "language_info": {
   "codemirror_mode": {
    "name": "ipython",
    "version": 3
   },
   "file_extension": ".py",
   "mimetype": "text/x-python",
   "name": "python",
   "nbconvert_exporter": "python",
   "pygments_lexer": "ipython3",
   "version": "3.13.1"
  }
 },
 "nbformat": 4,
 "nbformat_minor": 5
}
