{
 "cells": [
  {
   "cell_type": "code",
   "execution_count": null,
   "id": "d8efbe89-bfc6-4a71-a05a-5b45f4bafd5f",
   "metadata": {},
   "outputs": [],
   "source": []
  }
 ],
 "metadata": {
  "kernelspec": {
   "display_name": "",
   "name": ""
  },
  "language_info": {
   "name": ""
  }
 },
 "nbformat": 4,
 "nbformat_minor": 5
}
